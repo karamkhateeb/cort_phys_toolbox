{
 "cells": [
  {
   "cell_type": "code",
   "execution_count": 1,
   "metadata": {},
   "outputs": [],
   "source": [
    "import json\n",
    "import os\n",
    "import numpy as np\n",
    "import pandas as pd"
   ]
  },
  {
   "cell_type": "code",
   "execution_count": 2,
   "metadata": {},
   "outputs": [],
   "source": [
    "# os.chdir(\"C:\\Program Files\\MCXStudio\\Output\\mcxsessions\")\n",
    "os.chdir(\"D:\\lab\\mcxoutput\\gridsearch\")\n",
    "# os.chdir(\"C:\\\\Users\\julienb\\Documents\\MCXStudio\\Output\\mcxsessions\\gridsearch\")"
   ]
  },
  {
   "cell_type": "code",
   "execution_count": 3,
   "metadata": {},
   "outputs": [
    {
     "data": {
      "text/plain": [
       "['delete_vols.bat',\n",
       " 'gridsearch.bat',\n",
       " 'gridsearch_1_1p5.bat',\n",
       " 'gridsearch_p5_2.bat',\n",
       " 'optical_indices.csv',\n",
       " 'reference']"
      ]
     },
     "execution_count": 3,
     "metadata": {},
     "output_type": "execute_result"
    }
   ],
   "source": [
    "os.listdir()"
   ]
  },
  {
   "cell_type": "code",
   "execution_count": 4,
   "metadata": {},
   "outputs": [],
   "source": [
    "# os.chdir(\"560nm_1mm_w_pdms_e7_gottschalk\")"
   ]
  },
  {
   "cell_type": "code",
   "execution_count": 5,
   "metadata": {},
   "outputs": [],
   "source": [
    "apertures = [\"p5mm\", \"1mm\", \"1p5mm\", \"2mm\"]\n",
    "\n",
    "grid_interval = 5\n",
    "\n",
    "guas = np.linspace(.03, .76, grid_interval)\n",
    "guss = np.linspace(9.9, 53.6, grid_interval)\n",
    "gg = .91\n",
    "wuas = np.linspace(.09, .36, grid_interval-1)\n",
    "wuss = np.linspace(41.9, 78.4, grid_interval-1)\n",
    "wg = .8"
   ]
  },
  {
   "cell_type": "code",
   "execution_count": 6,
   "metadata": {},
   "outputs": [],
   "source": [
    "# optical_df = pd.DataFrame()\n",
    "\n",
    "for aperture in apertures:\n",
    "    \n",
    "    filename = \"reference/560nm_\"+aperture+\"_w_pdms_e7_gottschalk_us.json\"\n",
    "    with open(filename, \"r\") as f:\n",
    "        data = json.load(f)\n",
    "    \n",
    "    os.mkdir(aperture)\n",
    "    optical_dict = {\"gua\":[], \"gus\":[], \"wua\":[], \"wus\":[]}\n",
    "    \n",
    "    optical_index = 0\n",
    "    for gua in guas:\n",
    "        for gus in guss:\n",
    "            for wua in wuas:\n",
    "                for wus in wuss:\n",
    "                    optical_index += 1\n",
    "\n",
    "                    optical_fname = \"grid_\"+str(optical_index)\n",
    "\n",
    "                    os.mkdir(\"{}/{}\".format(aperture, optical_fname)) #make directory\n",
    "                    \n",
    "                    data[\"Session\"][\"ID\"] = aperture + optical_fname\n",
    "                    data[\"Domain\"][\"Media\"][2][\"mua\"] = gua\n",
    "                    data[\"Domain\"][\"Media\"][2][\"mus\"] = gus\n",
    "                    data[\"Domain\"][\"Media\"][2][\"g\"] = gg\n",
    "                    data[\"Domain\"][\"Media\"][3][\"mua\"] = wua\n",
    "                    data[\"Domain\"][\"Media\"][3][\"mus\"] = wus\n",
    "                    data[\"Domain\"][\"Media\"][3][\"g\"] = wg\n",
    "                    data[\"Forward\"]['Dt'] = 5e-09\n",
    "                    data[\"Session\"][\"Photons\"] = 1000000.0\n",
    "                    \n",
    "                    optical_dict[\"gua\"].append(gua)\n",
    "                    optical_dict[\"gus\"].append(gus)\n",
    "                    optical_dict[\"wua\"].append(wua)\n",
    "                    optical_dict[\"wus\"].append(wus)\n",
    "                    \n",
    "                    with open(\"{}/{}/specs.json\".format(aperture, optical_fname), \"w\") as f:\n",
    "                        json.dump(data, f, indent=2)\n"
   ]
  },
  {
   "cell_type": "code",
   "execution_count": 7,
   "metadata": {
    "scrolled": true
   },
   "outputs": [],
   "source": [
    "pd.DataFrame(optical_dict).to_csv(\"optical_indices.csv\")"
   ]
  },
  {
   "cell_type": "code",
   "execution_count": 8,
   "metadata": {},
   "outputs": [
    {
     "data": {
      "text/plain": [
       "1000000.0"
      ]
     },
     "execution_count": 8,
     "metadata": {},
     "output_type": "execute_result"
    }
   ],
   "source": [
    "data[\"Session\"][\"Photons\"]"
   ]
  },
  {
   "cell_type": "code",
   "execution_count": null,
   "metadata": {},
   "outputs": [],
   "source": []
  }
 ],
 "metadata": {
  "kernelspec": {
   "display_name": "Python 3",
   "language": "python",
   "name": "python3"
  },
  "language_info": {
   "codemirror_mode": {
    "name": "ipython",
    "version": 3
   },
   "file_extension": ".py",
   "mimetype": "text/x-python",
   "name": "python",
   "nbconvert_exporter": "python",
   "pygments_lexer": "ipython3",
   "version": "3.8.5"
  }
 },
 "nbformat": 4,
 "nbformat_minor": 4
}
